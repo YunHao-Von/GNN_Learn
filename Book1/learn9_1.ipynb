{
 "cells": [
  {
   "cell_type": "markdown",
   "metadata": {},
   "source": [
    "# 9-10章 图神经网络\n",
    "## 9.1图神经网络的相关基础知识。  \n",
    "### 9.1.1欧氏空间和非欧氏空间  \n",
    "欧氏空间：结构化的数据。  \n",
    "非欧氏空间：最有代表的就是图结构。    \n",
    "### 9.1.2图  \n",
    "根据图顶点的特征或者图的结构特征进行分类。  \n",
    "### 9.1.3图相关的术语和度量  \n",
    "无向图，有向图，权，网，度。  \n",
    "各顶点的度数的和是边的数量的两倍。  \n",
    "顶点数：节点的数量。   \n",
    "边数：边的数量。  \n",
    "平均度：表示每个顶点连接边的平均数，如果图是无向图，那么平均度的计算为$2* edge / node$   \n",
    "平均路径长度：任意两个顶点之间距离的平均值。它反映了网络中每个顶点间的分离程度。值越小代表网络中的顶点的连接度越大。   \n",
    "模块化指数：衡量网络图结构的模块化程度。一般地，该值如果大于0.44就说明了网络图达到了一定的模块化程度。  \n",
    "聚类系数：和平均路径程度一样能够展示所谓的小世界的效应，从而给出一些节点聚类。网络中的小世界特性是指网络节点的平均路径小。  \n",
    "网络直径：网络图直径的最大测量长度，即任意两点间的最短距离构成的集合之中的最大值。    \n",
    "### 9.1.4图神经网络  \n",
    "GNN是一种直接在图上运行的神经网络，可以对图的结构数据进行基于节点特征或者结构特征的处理。   "
   ]
  },
  {
   "cell_type": "markdown",
   "metadata": {},
   "source": [
    "## 9.2矩阵的基础  \n",
    "### 9.2.1转置矩阵  \n",
    "### 9.2.2对称矩阵及其特性  \n",
    "### 9.2.3对角矩阵与单位矩阵  \n"
   ]
  },
  {
   "cell_type": "code",
   "execution_count": 1,
   "metadata": {},
   "outputs": [
    {
     "name": "stdout",
     "output_type": "stream",
     "text": [
      "[[1 0 0]\n",
      " [0 8 0]\n",
      " [0 0 4]]\n",
      "[[1. 0. 0.]\n",
      " [0. 1. 0.]\n",
      " [0. 0. 1.]]\n"
     ]
    }
   ],
   "source": [
    "import numpy as np\n",
    "v = np.array([1,8,4])\n",
    "print(np.diag(v))  # 生成对角矩阵  \n",
    "print(np.eye(3))  # 生成三阶单位矩阵"
   ]
  },
  {
   "cell_type": "markdown",
   "metadata": {},
   "source": [
    "### 9.2.4哈达马积  \n",
    "两个矩阵的对应位置上的元素进行相乘的结果。  \n",
    "### 9.2.5点积  \n",
    "即矩阵相乘。  \n",
    "### 9.2.6对角矩阵的一些特性"
   ]
  },
  {
   "cell_type": "code",
   "execution_count": 2,
   "metadata": {},
   "outputs": [
    {
     "name": "stdout",
     "output_type": "stream",
     "text": [
      "[[1 0 0]\n",
      " [0 2 0]\n",
      " [0 0 3]]\n",
      "[1. 2. 3.]\n",
      "[[1. 0. 0.]\n",
      " [0. 1. 0.]\n",
      " [0. 0. 1.]]\n",
      "[[ 1  0  0]\n",
      " [ 0  8  0]\n",
      " [ 0  0 27]]\n",
      "[[ 1  0  0]\n",
      " [ 0  8  0]\n",
      " [ 0  0 27]]\n",
      "[[ 1  0  0]\n",
      " [ 0  8  0]\n",
      " [ 0  0 27]]\n",
      "[[ 1  0  0]\n",
      " [ 0  8  0]\n",
      " [ 0  0 27]]\n",
      "[[1 0 0]\n",
      " [0 2 0]\n",
      " [0 0 3]]\n",
      "[[1. 1. 1.]\n",
      " [1. 1. 1.]\n",
      " [1. 1. 1.]]\n",
      "[[1. 1. 1.]\n",
      " [2. 2. 2.]\n",
      " [3. 3. 3.]]\n"
     ]
    }
   ],
   "source": [
    "# 对角矩阵与向量的互相转化\n",
    "import numpy as np\n",
    "a = np.diag([1,2,3])  # 生成对角矩阵\n",
    "print(a)\n",
    "v,e = np.linalg.eig(a) \n",
    "print(v)\n",
    "print(e)\n",
    "# 计算对角矩阵的3次方的4种方法\n",
    "print(a*a*a)\n",
    "print(a**3)\n",
    "print((a**2)*a)\n",
    "print(a@a@a)\n",
    "\"\"\"对角矩阵的点积和哈达马积的结果都是一样的\"\"\"\n",
    "a = np.diag([1,2,3])\n",
    "print(a)\n",
    "b = np.ones([3,3])\n",
    "print(b)\n",
    "print(a@b)"
   ]
  },
  {
   "cell_type": "markdown",
   "metadata": {},
   "source": [
    "### 9.2.7度矩阵与邻接矩阵 \n",
    "度矩阵用来描述图中的每个节点所连接的边数。  \n",
    "图的邻接矩阵用来描述图中每个节点的相邻关系。  \n",
    "一般用D来表示度矩阵，A来表示邻接矩阵。    \n",
    "## 9.3邻接矩阵的几种操作  \n",
    "### 9.3.1获取有向图的短边和长边  \n",
    "在有向图中，两个节点之间的边数最大为2.    \n",
    "$E_{short}=W\\circ (W\\lt W^T)$  \n",
    "$E_{long}=W\\circ (W\\gt W^T)$\n",
    "### 9.3.2将有向图的邻接矩阵转化为无向图的邻接矩阵  \n",
    "在图计算过程中，将有向图的邻接矩阵转化为无向图的邻接矩阵。一般来说保留图中的长边矩阵，并且把其中的单连接变成双向连接。  \n",
    "无向图的邻接矩阵属于对称矩阵，在图关系顶点的分析中，它可以更加灵活地参与计算。  \n",
    "实现有向图的邻接矩阵转化为无向图的邻接阵的办法是将长边矩阵加上长边矩阵的转置：  \n",
    "$E_{symmetric} = E_{long} + E_{long}$  \n",
    "## 9.4基于CORA数据集的基本案例  "
   ]
  },
  {
   "cell_type": "code",
   "execution_count": 3,
   "metadata": {},
   "outputs": [
    {
     "name": "stdout",
     "output_type": "stream",
     "text": [
      "cuda\n"
     ]
    }
   ],
   "source": [
    "from pathlib import Path\n",
    "# 引入矩阵运算库\n",
    "import numpy as np\n",
    "import pandas as pd\n",
    "from scipy.sparse import coo_matrix,csr_matrix,diags,eye\n",
    "# 引入torch\n",
    "import torch\n",
    "from torch import nn\n",
    "import torch.nn.functional as F\n",
    "import matplotlib.pyplot as plt\n",
    "\n",
    "device = torch.device('cuda') if torch.cuda.is_available() else torch.device('cpu')\n",
    "print(device)"
   ]
  },
  {
   "cell_type": "code",
   "execution_count": 4,
   "metadata": {},
   "outputs": [
    {
     "name": "stderr",
     "output_type": "stream",
     "text": [
      "<ipython-input-4-ca694b160338>:1: DeprecationWarning: `np.str` is a deprecated alias for the builtin `str`. To silence this warning, use `str` by itself. Doing this will not modify any behavior and is safe. If you specifically wanted the numpy scalar type, use `np.str_` here.\n",
      "Deprecated in NumPy 1.20; for more details and guidance: https://numpy.org/devdocs/release/1.20.0-notes.html#deprecations\n",
      "  paper_features_label = np.genfromtxt('DataSet\\CORA\\cora.content', dtype=np.str)\n"
     ]
    },
    {
     "name": "stdout",
     "output_type": "stream",
     "text": [
      "(2708, 1435)\n",
      "[  31336 1061127 1106406 ... 1128978  117328   24043]\n",
      "(2708, 1433)\n",
      "{'Case_Based': 0, 'Genetic_Algorithms': 1, 'Neural_Networks': 2, 'Probabilistic_Methods': 3, 'Reinforcement_Learning': 4, 'Rule_Learning': 5, 'Theory': 6} [2, 5, 4, 4, 3]\n"
     ]
    }
   ],
   "source": [
    "paper_features_label = np.genfromtxt('DataSet\\CORA\\cora.content', dtype=np.str)\n",
    "print(np.shape(paper_features_label))\n",
    "#取出数据的第一列：论文的ID\n",
    "papers = paper_features_label[:,0].astype(np.int32)\n",
    "print(papers)\n",
    "#为论文重新编号，{31336: 0, 1061127: 1,……\n",
    "paper2idx = {k:v for v,k in enumerate(papers)}\n",
    "\n",
    "\n",
    "#将数据中间部分的字标签取出，转化成矩阵\n",
    "features = csr_matrix(paper_features_label[:, 1:-1], dtype=np.float32)\n",
    "print(np.shape(features))\n",
    "#将最后一项的论文分类属性取出，并转化为分类索引\n",
    "labels = paper_features_label[:, -1]\n",
    "lbl2idx = {k:v for v,k in enumerate(sorted(np.unique(labels)))}\n",
    "labels = [lbl2idx[e] for e in labels]\n",
    "print(lbl2idx,labels[:5])"
   ]
  },
  {
   "cell_type": "code",
   "execution_count": 5,
   "metadata": {},
   "outputs": [
    {
     "name": "stdout",
     "output_type": "stream",
     "text": [
      "[[     35    1033]\n",
      " [     35  103482]\n",
      " [     35  103515]\n",
      " ...\n",
      " [ 853118 1140289]\n",
      " [ 853155  853118]\n",
      " [ 954315 1155073]] (5429, 2)\n",
      "[[ 163  402]\n",
      " [ 163  659]\n",
      " [ 163 1696]\n",
      " ...\n",
      " [1887 2258]\n",
      " [1902 1887]\n",
      " [ 837 1686]] (5429, 2)\n"
     ]
    }
   ],
   "source": [
    "#读取论文关系数据，并将其转化为数组\n",
    "edges = np.genfromtxt('DataSet\\CORA\\cora.cites', dtype=np.int32)\n",
    "print(edges,np.shape(edges))\n",
    "#转化为新编号节点间的关系\n",
    "edges = np.asarray([paper2idx[e] for e in edges.flatten()], np.int32).reshape(edges.shape)\n",
    "print(edges,edges.shape)\n",
    "\n",
    "# 计算邻接矩阵（Adjacency matrix） ，行列都为论文个数\n",
    "adj = coo_matrix((np.ones(edges.shape[0]), (edges[:, 0], edges[:, 1])),\n",
    "                 shape=(len(labels), len(labels)), dtype=np.float32)\n",
    "# Symmetric adjacency matrix\n",
    "#adj = adj + adj.T.multiply(adj.T > adj) - adj.multiply(adj.T > adj)\n",
    "#生成无向图对称矩阵\n",
    "adj_long = adj.multiply(adj.T < adj)\n",
    "adj = adj_long+adj_long.T"
   ]
  },
  {
   "cell_type": "code",
   "execution_count": 6,
   "metadata": {},
   "outputs": [],
   "source": [
    "def normalize(mx):#定义函数，对矩阵数据进行归一化\n",
    "    '''Row-normalize sparse matrix'''\n",
    "    rowsum = np.array(mx.sum(1))#每一篇论文的字数\n",
    "    r_inv = (rowsum ** -1).flatten() #取总字数的倒数\n",
    "    r_inv[np.isinf(r_inv)] = 0.#将Nan值设为0\n",
    "    r_mat_inv = diags(r_inv)#将总字数的倒数做成对角矩阵\n",
    "    mx = r_mat_inv.dot(mx)#左乘一个矩阵，相当于每个元素除以总数\n",
    "    return mx\n",
    "\n",
    "#对 features矩阵进行归一化（每行的总和为1）\n",
    "features = normalize(features)\n",
    "\n",
    "\n",
    "# 对邻接矩阵对角线添加1，将其变为自循环图。同时再对其进行归一化\n",
    "adj = normalize(adj + eye(adj.shape[0]))"
   ]
  },
  {
   "cell_type": "code",
   "execution_count": 7,
   "metadata": {},
   "outputs": [],
   "source": [
    "# Data as tensors\n",
    "adj = torch.FloatTensor(adj.todense()) #节点间的关系\n",
    "features = torch.FloatTensor(features.todense())#节点自身的特征\n",
    "labels = torch.LongTensor(labels) #每个节点的分类标签\n",
    "\n",
    "#划分数据集\n",
    "n_train = 200\n",
    "n_val = 300\n",
    "n_test = len(features) - n_train - n_val\n",
    "np.random.seed(34)\n",
    "idxs = np.random.permutation(len(features))#将原有索引打乱顺序\n",
    "#计算每个数据集的索引\n",
    "idx_train = torch.LongTensor(idxs[:n_train])\n",
    "idx_val   = torch.LongTensor(idxs[n_train:n_train+n_val])\n",
    "idx_test  = torch.LongTensor(idxs[n_train+n_val:])\n",
    "adj = adj.to(device)\n",
    "features = features.to(device)\n",
    "labels = labels.to(device)\n",
    "idx_train = idx_train.to(device)\n",
    "idx_val = idx_val.to(device)\n",
    "idx_test = idx_test.to(device)"
   ]
  },
  {
   "cell_type": "markdown",
   "metadata": {},
   "source": [
    "图卷积的本质是维度变换，将每个含有in维的节点特征数据变换成out维的节点特征数据。   \n",
    "图卷积的操作是将输入的节点特征、权重参数、加工后的邻接矩阵三者放在一起执行点积运算。  \n",
    "权重参数可以被理解为一个全连接网络的权重，只不过在图卷积中，比全连接网络多了执行节点关系信息的点积运算。  \n"
   ]
  },
  {
   "cell_type": "code",
   "execution_count": 8,
   "metadata": {},
   "outputs": [],
   "source": [
    "def mish(x):\t\t\t\t\t#Mish激活函数\n",
    "    return x *( torch.tanh(F.softplus(x)))\n",
    "\n",
    "#图卷积类\n",
    "class GraphConvolution(nn.Module):\n",
    "    def __init__(self, f_in, f_out, use_bias=True, activation= mish):\n",
    "        super().__init__()\n",
    "        self.f_in = f_in\n",
    "        self.f_out = f_out\n",
    "        self.use_bias = use_bias\n",
    "        self.activation = activation\n",
    "        self.weight = nn.Parameter(torch.FloatTensor(f_in, f_out))\n",
    "        self.bias = nn.Parameter(torch.FloatTensor(f_out)) if use_bias else None\n",
    "        self.initialize_weights()\n",
    "        \n",
    "    def initialize_weights(self):\n",
    "        \"\"\"对参数进行初始化\"\"\"\n",
    "        if self.activation is None: \n",
    "            nn.init.xavier_uniform_(self.weight)\n",
    "        else: \n",
    "            nn.init.kaiming_uniform_(self.weight, nonlinearity='leaky_relu')\n",
    "        if self.use_bias: #初始化偏置\n",
    "            nn.init.zeros_(self.bias)\n",
    "        \n",
    "    def forward(self, input, adj):\n",
    "        support = torch.mm(input, self.weight)\n",
    "        output = torch.mm(adj, support)\n",
    "        if self.use_bias: \n",
    "            output.add_(self.bias)\n",
    "        \n",
    "        if self.activation is not None: \n",
    "            output = self.activation(output)\n",
    "        return output"
   ]
  },
  {
   "cell_type": "code",
   "execution_count": 9,
   "metadata": {},
   "outputs": [],
   "source": [
    "class GCN(nn.Module):\n",
    "    def __init__(self, f_in, n_classes, hidden=[16], dropout_p=0.5):\n",
    "        super().__init__()\n",
    "        layers = []\n",
    "        for f_in,f_out in zip([f_in]+hidden[:-1], hidden):\n",
    "            layers += [GraphConvolution(f_in, f_out)]\n",
    "            \n",
    "        self.layers = nn.Sequential(*layers)\n",
    "        self.dropout_p = dropout_p\n",
    "        \n",
    "        self.out_layer = GraphConvolution(f_out, n_classes, activation=None)\n",
    "        \n",
    "    def forward(self, x, adj):\n",
    "        for layer in self.layers:\n",
    "            x = layer(x, adj)\n",
    "        F.dropout(x, self.dropout_p, training=self.training, inplace=True) #函数方式调用dropout必须用training标志\n",
    "                        \n",
    "        return self.out_layer(x, adj)"
   ]
  },
  {
   "cell_type": "code",
   "execution_count": 10,
   "metadata": {},
   "outputs": [
    {
     "name": "stdout",
     "output_type": "stream",
     "text": [
      "7 1433\n"
     ]
    }
   ],
   "source": [
    "n_labels = labels.max().item() + 1  #分类个数 7\n",
    "n_features = features.shape[1]   #节点个数 1433\n",
    "print(n_labels, n_features)"
   ]
  },
  {
   "cell_type": "code",
   "execution_count": 11,
   "metadata": {},
   "outputs": [],
   "source": [
    "def accuracy(output,y):\n",
    "    return (output.argmax(1) == y).type(torch.float32).mean().item()\n",
    "\n",
    "def step():\n",
    "    model.train()\n",
    "    optimizer.zero_grad()\n",
    "    output = model(features, adj)\n",
    "    loss = F.cross_entropy(output[idx_train], labels[idx_train])\n",
    "    acc = accuracy(output[idx_train], labels[idx_train])\n",
    "    loss.backward()\n",
    "    optimizer.step()\n",
    "    return loss.item(), acc\n",
    "\n",
    "def evaluate(idx):\n",
    "    model.eval()\n",
    "    output = model(features, adj)\n",
    "    loss = F.cross_entropy(output[idx], labels[idx]).item()\n",
    "    return loss, accuracy(output[idx], labels[idx])\n"
   ]
  },
  {
   "cell_type": "code",
   "execution_count": 12,
   "metadata": {},
   "outputs": [
    {
     "name": "stderr",
     "output_type": "stream",
     "text": [
      "  0%|          | 0/1000 [00:00<?, ?it/s]c:\\Users\\Alctrain\\Desktop\\毕业设计\\GNN_Learn\\Book1\\ranger.py:125: UserWarning: This overload of addcmul_ is deprecated:\n",
      "\taddcmul_(Number value, Tensor tensor1, Tensor tensor2)\n",
      "Consider using one of the following signatures instead:\n",
      "\taddcmul_(Tensor tensor1, Tensor tensor2, *, Number value) (Triggered internally at  ..\\torch\\csrc\\utils\\python_arg_parser.cpp:1050.)\n",
      "  exp_avg_sq.mul_(beta2).addcmul_(1 - beta2, grad, grad)\n",
      "  4%|▍         | 42/1000 [00:00<08:40,  1.84it/s]"
     ]
    },
    {
     "name": "stdout",
     "output_type": "stream",
     "text": [
      "     1/1000: train_loss=1.9406, train_acc=0.1850, val_loss=1.9423, val_acc=0.1400\n",
      "    50/1000: train_loss=1.9353, train_acc=0.2500, val_loss=1.9357, val_acc=0.2733\n"
     ]
    },
    {
     "name": "stderr",
     "output_type": "stream",
     "text": [
      " 18%|█▊        | 177/1000 [00:01<02:34,  5.33it/s]"
     ]
    },
    {
     "name": "stdout",
     "output_type": "stream",
     "text": [
      "   100/1000: train_loss=1.9246, train_acc=0.2750, val_loss=1.9229, val_acc=0.3400\n",
      "   150/1000: train_loss=1.9120, train_acc=0.2600, val_loss=1.9081, val_acc=0.3200\n"
     ]
    },
    {
     "name": "stderr",
     "output_type": "stream",
     "text": [
      " 26%|██▋       | 264/1000 [00:01<01:08, 10.74it/s]"
     ]
    },
    {
     "name": "stdout",
     "output_type": "stream",
     "text": [
      "   200/1000: train_loss=1.8941, train_acc=0.2500, val_loss=1.8867, val_acc=0.3200\n",
      "   250/1000: train_loss=1.8722, train_acc=0.2500, val_loss=1.8607, val_acc=0.3167\n"
     ]
    },
    {
     "name": "stderr",
     "output_type": "stream",
     "text": [
      " 35%|███▌      | 353/1000 [00:01<00:30, 21.37it/s]"
     ]
    },
    {
     "name": "stdout",
     "output_type": "stream",
     "text": [
      "   300/1000: train_loss=1.8494, train_acc=0.2500, val_loss=1.8344, val_acc=0.3167\n",
      "   350/1000: train_loss=1.8196, train_acc=0.2500, val_loss=1.8034, val_acc=0.3233\n"
     ]
    },
    {
     "name": "stderr",
     "output_type": "stream",
     "text": [
      " 49%|████▉     | 488/1000 [00:01<00:08, 56.91it/s]"
     ]
    },
    {
     "name": "stdout",
     "output_type": "stream",
     "text": [
      "   400/1000: train_loss=1.7816, train_acc=0.2600, val_loss=1.7696, val_acc=0.3300\n",
      "   450/1000: train_loss=1.7350, train_acc=0.3200, val_loss=1.7326, val_acc=0.3833\n"
     ]
    },
    {
     "name": "stderr",
     "output_type": "stream",
     "text": [
      " 58%|█████▊    | 578/1000 [00:02<00:04, 102.58it/s]"
     ]
    },
    {
     "name": "stdout",
     "output_type": "stream",
     "text": [
      "   500/1000: train_loss=1.6572, train_acc=0.4700, val_loss=1.6743, val_acc=0.4800\n",
      "   550/1000: train_loss=1.5413, train_acc=0.5400, val_loss=1.5853, val_acc=0.5000\n"
     ]
    },
    {
     "name": "stderr",
     "output_type": "stream",
     "text": [
      " 66%|██████▋   | 665/1000 [00:02<00:02, 166.36it/s]"
     ]
    },
    {
     "name": "stdout",
     "output_type": "stream",
     "text": [
      "   600/1000: train_loss=1.4059, train_acc=0.5450, val_loss=1.4792, val_acc=0.5133\n",
      "   650/1000: train_loss=1.2313, train_acc=0.5550, val_loss=1.3445, val_acc=0.5067\n"
     ]
    },
    {
     "name": "stderr",
     "output_type": "stream",
     "text": [
      " 75%|███████▌  | 754/1000 [00:02<00:01, 244.31it/s]"
     ]
    },
    {
     "name": "stdout",
     "output_type": "stream",
     "text": [
      "   700/1000: train_loss=1.0637, train_acc=0.6450, val_loss=1.2168, val_acc=0.5600\n",
      "   750/1000: train_loss=0.9339, train_acc=0.7100, val_loss=1.1124, val_acc=0.6267\n"
     ]
    },
    {
     "name": "stderr",
     "output_type": "stream",
     "text": [
      " 84%|████████▍ | 845/1000 [00:02<00:00, 316.77it/s]"
     ]
    },
    {
     "name": "stdout",
     "output_type": "stream",
     "text": [
      "   800/1000: train_loss=0.8093, train_acc=0.7700, val_loss=1.0184, val_acc=0.6700\n",
      "   850/1000: train_loss=0.6979, train_acc=0.8100, val_loss=0.9438, val_acc=0.6900\n"
     ]
    },
    {
     "name": "stderr",
     "output_type": "stream",
     "text": [
      " 98%|█████████▊| 978/1000 [00:03<00:00, 386.73it/s]"
     ]
    },
    {
     "name": "stdout",
     "output_type": "stream",
     "text": [
      "   900/1000: train_loss=0.6088, train_acc=0.8500, val_loss=0.8877, val_acc=0.7467\n",
      "   950/1000: train_loss=0.5184, train_acc=0.9000, val_loss=0.8414, val_acc=0.7567\n"
     ]
    },
    {
     "name": "stderr",
     "output_type": "stream",
     "text": [
      "100%|██████████| 1000/1000 [00:03<00:00, 326.11it/s]\n"
     ]
    },
    {
     "name": "stdout",
     "output_type": "stream",
     "text": [
      "  1000/1000: train_loss=0.4429, train_acc=0.9350, val_loss=0.8080, val_acc=0.7700\n",
      "Train     : loss=0.4429, accuracy=0.9350\n",
      "Validation: loss=0.8080, accuracy=0.7700\n",
      "Test      : loss=0.9106, accuracy=0.7228\n",
      "                 Real                   Pred\n",
      "0     Neural_Networks        Neural_Networks\n",
      "1     Neural_Networks  Probabilistic_Methods\n",
      "2  Genetic_Algorithms     Genetic_Algorithms\n",
      "3          Case_Based  Probabilistic_Methods\n",
      "4              Theory          Rule_Learning\n",
      "5     Neural_Networks        Neural_Networks\n",
      "6     Neural_Networks        Neural_Networks\n",
      "7  Genetic_Algorithms     Genetic_Algorithms\n",
      "8     Neural_Networks             Case_Based\n",
      "9     Neural_Networks  Probabilistic_Methods\n"
     ]
    },
    {
     "data": {
      "image/png": "[encoded data removed]",
      "text/plain": [
       "<Figure size 1080x360 with 2 Axes>"
      ]
     },
     "metadata": {
      "needs_background": "light"
     },
     "output_type": "display_data"
    }
   ],
   "source": [
    "model = GCN(n_features, n_labels, hidden=[16, 32, 16]).to(device)\n",
    "\n",
    "\n",
    "from ranger import *\n",
    "optimizer = Ranger(model.parameters())\n",
    "\n",
    "\n",
    "\n",
    "\n",
    "from tqdm import tqdm  #pip install tqdm\n",
    "#训练模型\n",
    "epochs = 1000#400#500\n",
    "\n",
    "print_steps = 50\n",
    "train_loss, train_acc = [], []\n",
    "val_loss, val_acc = [], []\n",
    "for i in tqdm(range(epochs)):\n",
    "    tl, ta = step()\n",
    "    train_loss += [tl]\n",
    "    train_acc += [ta]\n",
    "    if (i+1)%print_steps == 0 or i == 0:\n",
    "        tl, ta = evaluate(idx_train)\n",
    "        vl, va = evaluate(idx_val)\n",
    "        val_loss += [vl]\n",
    "        val_acc += [va]\n",
    "        print(f'{i+1:6d}/{epochs}: train_loss={tl:.4f}, train_acc={ta:.4f}'+\n",
    "              f', val_loss={vl:.4f}, val_acc={va:.4f}')\n",
    "\n",
    "#输出最终结果\n",
    "final_train, final_val, final_test = evaluate(idx_train), evaluate(idx_val), evaluate(idx_test)\n",
    "print(f'Train     : loss={final_train[0]:.4f}, accuracy={final_train[1]:.4f}')\n",
    "print(f'Validation: loss={final_val[0]:.4f}, accuracy={final_val[1]:.4f}')\n",
    "print(f'Test      : loss={final_test[0]:.4f}, accuracy={final_test[1]:.4f}')\n",
    "\n",
    "\n",
    "#可视化训练过程\n",
    "fig, axes = plt.subplots(1, 2, figsize=(15,5))\n",
    "ax = axes[0]\n",
    "axes[0].plot(train_loss[::print_steps] + [train_loss[-1]], label='Train')\n",
    "axes[0].plot(val_loss, label='Validation')\n",
    "axes[1].plot(train_acc[::print_steps] + [train_acc[-1]], label='Train')\n",
    "axes[1].plot(val_acc, label='Validation')\n",
    "for ax,t in zip(axes, ['Loss', 'Accuracy']): ax.legend(), ax.set_title(t, size=15)\n",
    "\n",
    "\n",
    "\n",
    "#输出模型预测结果\n",
    "output = model(features, adj)\n",
    "\n",
    "samples = 10\n",
    "idx_sample = idx_test[torch.randperm(len(idx_test))[:samples]]\n",
    "\n",
    "idx2lbl = {v:k for k,v in lbl2idx.items()}\n",
    "df = pd.DataFrame({'Real': [idx2lbl[e] for e in labels[idx_sample].tolist()],\n",
    "                   'Pred': [idx2lbl[e] for e in output[idx_sample].argmax(1).tolist()]})\n",
    "print(df)"
   ]
  },
  {
   "cell_type": "code",
   "execution_count": 1,
   "metadata": {},
   "outputs": [
    {
     "name": "stdout",
     "output_type": "stream",
     "text": [
      "11.3\n"
     ]
    }
   ],
   "source": [
    "import torch\n",
    "print(torch.version.cuda)"
   ]
  }
 ],
 "metadata": {
  "interpreter": {
   "hash": "51a9663a131f1b5758c45b97a2d6917c8ae86b33e231c3733631cbc7265cfc89"
  },
  "kernelspec": {
   "display_name": "Python 3.8.3 ('base')",
   "language": "python",
   "name": "python3"
  },
  "language_info": {
   "codemirror_mode": {
    "name": "ipython",
    "version": 3
   },
   "file_extension": ".py",
   "mimetype": "text/x-python",
   "name": "python",
   "nbconvert_exporter": "python",
   "pygments_lexer": "ipython3",
   "version": "3.8.3"
  },
  "orig_nbformat": 4
 },
 "nbformat": 4,
 "nbformat_minor": 2
}
