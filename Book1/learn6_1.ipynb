{
 "cells": [
  {
   "cell_type": "code",
   "execution_count": 2,
   "metadata": {},
   "outputs": [
    {
     "name": "stdout",
     "output_type": "stream",
     "text": [
      "Downloading http://fashion-mnist.s3-website.eu-central-1.amazonaws.com/train-images-idx3-ubyte.gz\n",
      "Downloading http://fashion-mnist.s3-website.eu-central-1.amazonaws.com/train-images-idx3-ubyte.gz to ./fashion_mnist/FashionMNIST\\raw\\train-images-idx3-ubyte.gz\n"
     ]
    },
    {
     "name": "stderr",
     "output_type": "stream",
     "text": [
      "26422272it [00:12, 2169065.65it/s]                              \n"
     ]
    },
    {
     "name": "stdout",
     "output_type": "stream",
     "text": [
      "Extracting ./fashion_mnist/FashionMNIST\\raw\\train-images-idx3-ubyte.gz to ./fashion_mnist/FashionMNIST\\raw\n",
      "\n",
      "Downloading http://fashion-mnist.s3-website.eu-central-1.amazonaws.com/train-labels-idx1-ubyte.gz\n",
      "Downloading http://fashion-mnist.s3-website.eu-central-1.amazonaws.com/train-labels-idx1-ubyte.gz to ./fashion_mnist/FashionMNIST\\raw\\train-labels-idx1-ubyte.gz\n"
     ]
    },
    {
     "name": "stderr",
     "output_type": "stream",
     "text": [
      "29696it [00:00, 153184.55it/s]                          \n"
     ]
    },
    {
     "name": "stdout",
     "output_type": "stream",
     "text": [
      "Extracting ./fashion_mnist/FashionMNIST\\raw\\train-labels-idx1-ubyte.gz to ./fashion_mnist/FashionMNIST\\raw\n",
      "\n",
      "Downloading http://fashion-mnist.s3-website.eu-central-1.amazonaws.com/t10k-images-idx3-ubyte.gz\n",
      "Downloading http://fashion-mnist.s3-website.eu-central-1.amazonaws.com/t10k-images-idx3-ubyte.gz to ./fashion_mnist/FashionMNIST\\raw\\t10k-images-idx3-ubyte.gz\n"
     ]
    },
    {
     "name": "stderr",
     "output_type": "stream",
     "text": [
      "4422656it [00:03, 1161422.43it/s]                             \n"
     ]
    },
    {
     "name": "stdout",
     "output_type": "stream",
     "text": [
      "Extracting ./fashion_mnist/FashionMNIST\\raw\\t10k-images-idx3-ubyte.gz to ./fashion_mnist/FashionMNIST\\raw\n",
      "\n",
      "Downloading http://fashion-mnist.s3-website.eu-central-1.amazonaws.com/t10k-labels-idx1-ubyte.gz\n",
      "Downloading http://fashion-mnist.s3-website.eu-central-1.amazonaws.com/t10k-labels-idx1-ubyte.gz to ./fashion_mnist/FashionMNIST\\raw\\t10k-labels-idx1-ubyte.gz\n"
     ]
    },
    {
     "name": "stderr",
     "output_type": "stream",
     "text": [
      "6144it [00:00, 6145910.75it/s]          "
     ]
    },
    {
     "name": "stdout",
     "output_type": "stream",
     "text": [
      "Extracting ./fashion_mnist/FashionMNIST\\raw\\t10k-labels-idx1-ubyte.gz to ./fashion_mnist/FashionMNIST\\raw\n",
      "\n"
     ]
    },
    {
     "name": "stderr",
     "output_type": "stream",
     "text": [
      "\n"
     ]
    }
   ],
   "source": [
    "import torchvision\n",
    "import torchvision.transforms as tranforms\n",
    "data_dir = './fashion_mnist/'\n",
    "tranform = tranforms.Compose([tranforms.ToTensor()])\n",
    "train_dataset = torchvision.datasets.FashionMNIST(data_dir, train=True, transform=tranform,download=True)"
   ]
  },
  {
   "cell_type": "code",
   "execution_count": 3,
   "metadata": {},
   "outputs": [
    {
     "name": "stdout",
     "output_type": "stream",
     "text": [
      "训练数据集条数 60000\n",
      "测试数据集条数 10000\n"
     ]
    },
    {
     "data": {
      "image/png": "[encoded data removed]",
      "text/plain": [
       "<Figure size 432x288 with 1 Axes>"
      ]
     },
     "metadata": {
      "needs_background": "light"
     },
     "output_type": "display_data"
    },
    {
     "name": "stdout",
     "output_type": "stream",
     "text": [
      "该图片的标签为： 9\n"
     ]
    }
   ],
   "source": [
    "print(\"训练数据集条数\",len(train_dataset))\n",
    "val_dataset  = torchvision.datasets.FashionMNIST(root=data_dir, train=False, transform=tranform)\n",
    "print(\"测试数据集条数\",len(val_dataset))\n",
    "import pylab\n",
    "im = train_dataset[0][0]\n",
    "im = im.reshape(-1,28)\n",
    "pylab.imshow(im)\n",
    "pylab.show()\n",
    "print(\"该图片的标签为：\",train_dataset[0][1])\n"
   ]
  },
  {
   "cell_type": "code",
   "execution_count": 4,
   "metadata": {},
   "outputs": [],
   "source": [
    "############数据集的制作\n",
    "import torch\n",
    "batch_size = 10\n",
    "train_loader = torch.utils.data.DataLoader(train_dataset, batch_size=batch_size, shuffle=True)\n",
    "test_loader = torch.utils.data.DataLoader(val_dataset, batch_size=batch_size, shuffle=False)"
   ]
  },
  {
   "cell_type": "code",
   "execution_count": 5,
   "metadata": {},
   "outputs": [
    {
     "name": "stdout",
     "output_type": "stream",
     "text": [
      "样本形状： torch.Size([10, 1, 28, 28])\n",
      "样本标签： tensor([8, 2, 8, 0, 1, 6, 2, 9, 2, 0])\n",
      "图片形状： torch.Size([3, 32, 302])\n",
      "  Bag,Pullover,  Bag,T-shirt,Trouser,Shirt,Pullover,Ankle_Boot,Pullover,T-shirt\n"
     ]
    },
    {
     "data": {
      "image/png": "[encoded data removed]",
      "text/plain": [
       "<Figure size 432x288 with 1 Axes>"
      ]
     },
     "metadata": {
      "needs_background": "light"
     },
     "output_type": "display_data"
    }
   ],
   "source": [
    "from matplotlib import pyplot as plt\n",
    "import numpy as np\n",
    "def imshow(img):\n",
    "    print(\"图片形状：\",np.shape(img))\n",
    "    npimg = img.numpy()\n",
    "    plt.axis('off')\n",
    "    plt.imshow(np.transpose(npimg, (1, 2, 0)))\n",
    "\n",
    "classes = ('T-shirt', 'Trouser', 'Pullover', 'Dress', 'Coat', 'Sandal', 'Shirt', 'Sneaker', 'Bag', 'Ankle_Boot')\n",
    "sample = iter(train_loader)\n",
    "images, labels = sample.next()\n",
    "print('样本形状：',np.shape(images))\n",
    "print('样本标签：',labels)\n",
    "imshow(torchvision.utils.make_grid(images,nrow=batch_size))\n",
    "print(','.join('%5s' % classes[labels[j]] for j in range(len(images))))"
   ]
  },
  {
   "cell_type": "code",
   "execution_count": 8,
   "metadata": {},
   "outputs": [
    {
     "name": "stdout",
     "output_type": "stream",
     "text": [
      "cuda:0\n",
      "myConNet(\n",
      "  (conv1): Conv2d(1, 6, kernel_size=(5, 5), stride=(1, 1))\n",
      "  (conv2): Conv2d(6, 12, kernel_size=(5, 5), stride=(1, 1))\n",
      "  (fc1): Linear(in_features=192, out_features=120, bias=True)\n",
      "  (fc2): Linear(in_features=120, out_features=60, bias=True)\n",
      "  (out): Linear(in_features=60, out_features=10, bias=True)\n",
      ")\n",
      "[1,  1000] loss: 0.447\n",
      "[1,  2000] loss: 0.325\n",
      "[1,  3000] loss: 0.304\n",
      "[1,  4000] loss: 0.289\n",
      "[1,  5000] loss: 0.275\n",
      "[1,  6000] loss: 0.275\n",
      "[2,  1000] loss: 0.283\n",
      "[2,  2000] loss: 0.265\n",
      "[2,  3000] loss: 0.273\n",
      "[2,  4000] loss: 0.265\n",
      "[2,  5000] loss: 0.269\n",
      "[2,  6000] loss: 0.265\n",
      "Finished Training\n"
     ]
    }
   ],
   "source": [
    "from torch.nn import functional as F\n",
    "\n",
    "class myConNet(torch.nn.Module):\n",
    "    def __init__(self):\n",
    "        super(myConNet, self).__init__()\n",
    "        #定义卷积层\n",
    "        self.conv1 = torch.nn.Conv2d(in_channels=1, out_channels=6, kernel_size=5)\n",
    "        self.conv2 = torch.nn.Conv2d(in_channels=6, out_channels=12, kernel_size=5)\n",
    "        #定义全连接层\n",
    "        self.fc1 = torch.nn.Linear(in_features=12*4*4, out_features=120)\n",
    "        self.fc2 = torch.nn.Linear(in_features=120, out_features=60)\n",
    "        self.out = torch.nn.Linear(in_features=60, out_features=10)\n",
    "\n",
    "    def forward(self, t):#搭建正向结构\n",
    "        #第一层卷积和池化处理\n",
    "        t = self.conv1(t)\n",
    "        t = F.relu(t)\n",
    "        t = F.max_pool2d(t, kernel_size=2, stride=2)\n",
    "        #第二层卷积和池化处理\n",
    "        t = self.conv2(t)\n",
    "        t = F.relu(t)\n",
    "        t = F.max_pool2d(t, kernel_size=2, stride=2)\n",
    "\n",
    "        #搭建全连接网络，第一层全连接\n",
    "        t = t.reshape(-1, 12 * 4 * 4)#将卷积结果由4维变为2维\n",
    "        t = self.fc1(t)\n",
    "        t = F.relu(t)\n",
    "        #第二层全连接\n",
    "        t = self.fc2(t)\n",
    "        t = F.relu(t)\n",
    "        #第三层全连接\n",
    "        t = self.out(t)\n",
    "        return t\n",
    "device = torch.device(\"cuda:0\" if torch.cuda.is_available() else \"cpu\")\n",
    "print(device)\n",
    "network = myConNet()\n",
    "network.to(device)\n",
    "print(network)\n",
    "criterion = torch.nn.CrossEntropyLoss()  #实例化损失函数类\n",
    "optimizer = torch.optim.Adam(network.parameters(), lr=.01)\n",
    "for epoch in range(2): #数据集迭代2次\n",
    "    running_loss = 0.0\n",
    "    for i, data in enumerate(train_loader, 0): #循环取出批次数据\n",
    "        inputs, labels = data\n",
    "        inputs, labels = inputs.to(device), labels.to(device) #\n",
    "        optimizer.zero_grad()#清空之前的梯度\n",
    "        outputs = network(inputs)\n",
    "        loss = criterion(outputs, labels)#计算损失\n",
    "        loss.backward()  #反向传播\n",
    "        optimizer.step() #更新参数\n",
    "\n",
    "        running_loss += loss.item()\n",
    "        if i % 1000 == 999:\n",
    "            print('[%d, %5d] loss: %.3f' %\n",
    "                (epoch + 1, i + 1, running_loss / 2000))\n",
    "            running_loss = 0.0\n",
    "\n",
    "print('Finished Training')\n",
    "# 保存模型\n",
    "torch.save(network.state_dict(), './CNNFashionMNIST.pth')"
   ]
  }
 ],
 "metadata": {
  "interpreter": {
   "hash": "51a9663a131f1b5758c45b97a2d6917c8ae86b33e231c3733631cbc7265cfc89"
  },
  "kernelspec": {
   "display_name": "Python 3.8.3 ('base')",
   "language": "python",
   "name": "python3"
  },
  "language_info": {
   "codemirror_mode": {
    "name": "ipython",
    "version": 3
   },
   "file_extension": ".py",
   "mimetype": "text/x-python",
   "name": "python",
   "nbconvert_exporter": "python",
   "pygments_lexer": "ipython3",
   "version": "3.8.3"
  },
  "orig_nbformat": 4
 },
 "nbformat": 4,
 "nbformat_minor": 2
}
