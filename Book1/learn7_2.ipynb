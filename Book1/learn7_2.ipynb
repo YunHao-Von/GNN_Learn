{
 "cells": [
  {
   "cell_type": "markdown",
   "metadata": {},
   "source": [
    "## 7.5循环神经网络  \n",
    "RNN是一个具有记忆功能的网络模型。它可以发现样本彼此之间的相互关系，它多用于处理带有序列特征的样本数据。　　　\n",
    "基本上适用于序列化的特征任务。"
   ]
  }
 ],
 "metadata": {
  "language_info": {
   "name": "python"
  },
  "orig_nbformat": 4
 },
 "nbformat": 4,
 "nbformat_minor": 2
}
